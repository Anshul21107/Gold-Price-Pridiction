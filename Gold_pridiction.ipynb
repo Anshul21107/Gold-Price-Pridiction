{
 "cells": [
  {
   "cell_type": "markdown",
   "id": "b1015867",
   "metadata": {},
   "source": [
    "# Gold Price Pridiction with Random Forest Regresser"
   ]
  },
  {
   "cell_type": "code",
   "execution_count": 1,
   "id": "716c7928",
   "metadata": {},
   "outputs": [],
   "source": [
    "import numpy as np\n",
    "import pandas as pd\n",
    "import matplotlib.pyplot as plt\n",
    "import seaborn as sns\n",
    "from sklearn.model_selection import train_test_split\n",
    "from sklearn.ensemble import RandomForestRegressor\n",
    "from sklearn import metrics"
   ]
  },
  {
   "cell_type": "code",
   "execution_count": 2,
   "id": "2469d42c",
   "metadata": {},
   "outputs": [],
   "source": [
    "#data set from kaggle\n",
    "gold_data = pd.read_csv('gld_price_data.csv')"
   ]
  },
  {
   "cell_type": "code",
   "execution_count": 3,
   "id": "e558e52f",
   "metadata": {},
   "outputs": [
    {
     "data": {
      "text/html": [
       "<div>\n",
       "<style scoped>\n",
       "    .dataframe tbody tr th:only-of-type {\n",
       "        vertical-align: middle;\n",
       "    }\n",
       "\n",
       "    .dataframe tbody tr th {\n",
       "        vertical-align: top;\n",
       "    }\n",
       "\n",
       "    .dataframe thead th {\n",
       "        text-align: right;\n",
       "    }\n",
       "</style>\n",
       "<table border=\"1\" class=\"dataframe\">\n",
       "  <thead>\n",
       "    <tr style=\"text-align: right;\">\n",
       "      <th></th>\n",
       "      <th>Date</th>\n",
       "      <th>SPX</th>\n",
       "      <th>GLD</th>\n",
       "      <th>USO</th>\n",
       "      <th>SLV</th>\n",
       "      <th>EUR/USD</th>\n",
       "    </tr>\n",
       "  </thead>\n",
       "  <tbody>\n",
       "    <tr>\n",
       "      <th>0</th>\n",
       "      <td>1/2/2008</td>\n",
       "      <td>1447.160034</td>\n",
       "      <td>84.860001</td>\n",
       "      <td>78.470001</td>\n",
       "      <td>15.180</td>\n",
       "      <td>1.471692</td>\n",
       "    </tr>\n",
       "    <tr>\n",
       "      <th>1</th>\n",
       "      <td>1/3/2008</td>\n",
       "      <td>1447.160034</td>\n",
       "      <td>85.570000</td>\n",
       "      <td>78.370003</td>\n",
       "      <td>15.285</td>\n",
       "      <td>1.474491</td>\n",
       "    </tr>\n",
       "    <tr>\n",
       "      <th>2</th>\n",
       "      <td>1/4/2008</td>\n",
       "      <td>1411.630005</td>\n",
       "      <td>85.129997</td>\n",
       "      <td>77.309998</td>\n",
       "      <td>15.167</td>\n",
       "      <td>1.475492</td>\n",
       "    </tr>\n",
       "    <tr>\n",
       "      <th>3</th>\n",
       "      <td>1/7/2008</td>\n",
       "      <td>1416.180054</td>\n",
       "      <td>84.769997</td>\n",
       "      <td>75.500000</td>\n",
       "      <td>15.053</td>\n",
       "      <td>1.468299</td>\n",
       "    </tr>\n",
       "    <tr>\n",
       "      <th>4</th>\n",
       "      <td>1/8/2008</td>\n",
       "      <td>1390.189941</td>\n",
       "      <td>86.779999</td>\n",
       "      <td>76.059998</td>\n",
       "      <td>15.590</td>\n",
       "      <td>1.557099</td>\n",
       "    </tr>\n",
       "  </tbody>\n",
       "</table>\n",
       "</div>"
      ],
      "text/plain": [
       "       Date          SPX        GLD        USO     SLV   EUR/USD\n",
       "0  1/2/2008  1447.160034  84.860001  78.470001  15.180  1.471692\n",
       "1  1/3/2008  1447.160034  85.570000  78.370003  15.285  1.474491\n",
       "2  1/4/2008  1411.630005  85.129997  77.309998  15.167  1.475492\n",
       "3  1/7/2008  1416.180054  84.769997  75.500000  15.053  1.468299\n",
       "4  1/8/2008  1390.189941  86.779999  76.059998  15.590  1.557099"
      ]
     },
     "execution_count": 3,
     "metadata": {},
     "output_type": "execute_result"
    }
   ],
   "source": [
    "gold_data.head()"
   ]
  },
  {
   "cell_type": "code",
   "execution_count": 4,
   "id": "d02e7aaf",
   "metadata": {},
   "outputs": [
    {
     "data": {
      "text/html": [
       "<div>\n",
       "<style scoped>\n",
       "    .dataframe tbody tr th:only-of-type {\n",
       "        vertical-align: middle;\n",
       "    }\n",
       "\n",
       "    .dataframe tbody tr th {\n",
       "        vertical-align: top;\n",
       "    }\n",
       "\n",
       "    .dataframe thead th {\n",
       "        text-align: right;\n",
       "    }\n",
       "</style>\n",
       "<table border=\"1\" class=\"dataframe\">\n",
       "  <thead>\n",
       "    <tr style=\"text-align: right;\">\n",
       "      <th></th>\n",
       "      <th>Date</th>\n",
       "      <th>SPX</th>\n",
       "      <th>GLD</th>\n",
       "      <th>USO</th>\n",
       "      <th>SLV</th>\n",
       "      <th>EUR/USD</th>\n",
       "    </tr>\n",
       "  </thead>\n",
       "  <tbody>\n",
       "    <tr>\n",
       "      <th>288</th>\n",
       "      <td>5/4/2009</td>\n",
       "      <td>907.239990</td>\n",
       "      <td>88.639999</td>\n",
       "      <td>30.559999</td>\n",
       "      <td>12.830</td>\n",
       "      <td>1.331593</td>\n",
       "    </tr>\n",
       "    <tr>\n",
       "      <th>113</th>\n",
       "      <td>7/8/2008</td>\n",
       "      <td>1273.699951</td>\n",
       "      <td>90.860001</td>\n",
       "      <td>109.919998</td>\n",
       "      <td>17.664</td>\n",
       "      <td>1.573589</td>\n",
       "    </tr>\n",
       "    <tr>\n",
       "      <th>2102</th>\n",
       "      <td>7/13/2017</td>\n",
       "      <td>2447.830078</td>\n",
       "      <td>115.820000</td>\n",
       "      <td>9.470000</td>\n",
       "      <td>14.870</td>\n",
       "      <td>1.140394</td>\n",
       "    </tr>\n",
       "    <tr>\n",
       "      <th>1758</th>\n",
       "      <td>12/23/2015</td>\n",
       "      <td>2064.290039</td>\n",
       "      <td>102.309998</td>\n",
       "      <td>11.260000</td>\n",
       "      <td>13.620</td>\n",
       "      <td>1.095002</td>\n",
       "    </tr>\n",
       "    <tr>\n",
       "      <th>2163</th>\n",
       "      <td>10/31/2017</td>\n",
       "      <td>2575.260010</td>\n",
       "      <td>120.669998</td>\n",
       "      <td>10.930000</td>\n",
       "      <td>15.790</td>\n",
       "      <td>1.165270</td>\n",
       "    </tr>\n",
       "  </tbody>\n",
       "</table>\n",
       "</div>"
      ],
      "text/plain": [
       "            Date          SPX         GLD         USO     SLV   EUR/USD\n",
       "288     5/4/2009   907.239990   88.639999   30.559999  12.830  1.331593\n",
       "113     7/8/2008  1273.699951   90.860001  109.919998  17.664  1.573589\n",
       "2102   7/13/2017  2447.830078  115.820000    9.470000  14.870  1.140394\n",
       "1758  12/23/2015  2064.290039  102.309998   11.260000  13.620  1.095002\n",
       "2163  10/31/2017  2575.260010  120.669998   10.930000  15.790  1.165270"
      ]
     },
     "execution_count": 4,
     "metadata": {},
     "output_type": "execute_result"
    }
   ],
   "source": [
    "gold_data.sample(5)"
   ]
  },
  {
   "cell_type": "code",
   "execution_count": 5,
   "id": "0fbf084f",
   "metadata": {},
   "outputs": [
    {
     "data": {
      "text/plain": [
       "(2290, 6)"
      ]
     },
     "execution_count": 5,
     "metadata": {},
     "output_type": "execute_result"
    }
   ],
   "source": [
    "gold_data.shape"
   ]
  },
  {
   "cell_type": "code",
   "execution_count": 6,
   "id": "c3e78e7a",
   "metadata": {},
   "outputs": [],
   "source": [
    "# 1. Data cleaning\n",
    "# 2. EDA\n",
    "# 3. Model building\n",
    "# 4. Evaluation"
   ]
  },
  {
   "cell_type": "markdown",
   "id": "6034fa15",
   "metadata": {},
   "source": [
    "## 1.  Data Cleaning"
   ]
  },
  {
   "cell_type": "code",
   "execution_count": 7,
   "id": "3b2fc43a",
   "metadata": {},
   "outputs": [
    {
     "name": "stdout",
     "output_type": "stream",
     "text": [
      "<class 'pandas.core.frame.DataFrame'>\n",
      "RangeIndex: 2290 entries, 0 to 2289\n",
      "Data columns (total 6 columns):\n",
      " #   Column   Non-Null Count  Dtype  \n",
      "---  ------   --------------  -----  \n",
      " 0   Date     2290 non-null   object \n",
      " 1   SPX      2290 non-null   float64\n",
      " 2   GLD      2290 non-null   float64\n",
      " 3   USO      2290 non-null   float64\n",
      " 4   SLV      2290 non-null   float64\n",
      " 5   EUR/USD  2290 non-null   float64\n",
      "dtypes: float64(5), object(1)\n",
      "memory usage: 107.5+ KB\n"
     ]
    }
   ],
   "source": [
    "gold_data.info()"
   ]
  },
  {
   "cell_type": "code",
   "execution_count": 8,
   "id": "fd205054",
   "metadata": {},
   "outputs": [
    {
     "data": {
      "text/plain": [
       "Date       0\n",
       "SPX        0\n",
       "GLD        0\n",
       "USO        0\n",
       "SLV        0\n",
       "EUR/USD    0\n",
       "dtype: int64"
      ]
     },
     "execution_count": 8,
     "metadata": {},
     "output_type": "execute_result"
    }
   ],
   "source": [
    "# checking the number of missing values in  each column\n",
    "gold_data.isnull().sum()"
   ]
  },
  {
   "cell_type": "code",
   "execution_count": 9,
   "id": "56c8a77c",
   "metadata": {},
   "outputs": [],
   "source": [
    "# There is no null attributes or no waste column so there is no need to remove aany column"
   ]
  },
  {
   "cell_type": "markdown",
   "id": "bdb2d3ad",
   "metadata": {},
   "source": [
    "## 2. EDA"
   ]
  },
  {
   "cell_type": "code",
   "execution_count": 10,
   "id": "68aca405",
   "metadata": {},
   "outputs": [
    {
     "data": {
      "text/html": [
       "<div>\n",
       "<style scoped>\n",
       "    .dataframe tbody tr th:only-of-type {\n",
       "        vertical-align: middle;\n",
       "    }\n",
       "\n",
       "    .dataframe tbody tr th {\n",
       "        vertical-align: top;\n",
       "    }\n",
       "\n",
       "    .dataframe thead th {\n",
       "        text-align: right;\n",
       "    }\n",
       "</style>\n",
       "<table border=\"1\" class=\"dataframe\">\n",
       "  <thead>\n",
       "    <tr style=\"text-align: right;\">\n",
       "      <th></th>\n",
       "      <th>SPX</th>\n",
       "      <th>GLD</th>\n",
       "      <th>USO</th>\n",
       "      <th>SLV</th>\n",
       "      <th>EUR/USD</th>\n",
       "    </tr>\n",
       "  </thead>\n",
       "  <tbody>\n",
       "    <tr>\n",
       "      <th>count</th>\n",
       "      <td>2290.000000</td>\n",
       "      <td>2290.000000</td>\n",
       "      <td>2290.000000</td>\n",
       "      <td>2290.000000</td>\n",
       "      <td>2290.000000</td>\n",
       "    </tr>\n",
       "    <tr>\n",
       "      <th>mean</th>\n",
       "      <td>1654.315776</td>\n",
       "      <td>122.732875</td>\n",
       "      <td>31.842221</td>\n",
       "      <td>20.084997</td>\n",
       "      <td>1.283653</td>\n",
       "    </tr>\n",
       "    <tr>\n",
       "      <th>std</th>\n",
       "      <td>519.111540</td>\n",
       "      <td>23.283346</td>\n",
       "      <td>19.523517</td>\n",
       "      <td>7.092566</td>\n",
       "      <td>0.131547</td>\n",
       "    </tr>\n",
       "    <tr>\n",
       "      <th>min</th>\n",
       "      <td>676.530029</td>\n",
       "      <td>70.000000</td>\n",
       "      <td>7.960000</td>\n",
       "      <td>8.850000</td>\n",
       "      <td>1.039047</td>\n",
       "    </tr>\n",
       "    <tr>\n",
       "      <th>25%</th>\n",
       "      <td>1239.874969</td>\n",
       "      <td>109.725000</td>\n",
       "      <td>14.380000</td>\n",
       "      <td>15.570000</td>\n",
       "      <td>1.171313</td>\n",
       "    </tr>\n",
       "    <tr>\n",
       "      <th>50%</th>\n",
       "      <td>1551.434998</td>\n",
       "      <td>120.580002</td>\n",
       "      <td>33.869999</td>\n",
       "      <td>17.268500</td>\n",
       "      <td>1.303297</td>\n",
       "    </tr>\n",
       "    <tr>\n",
       "      <th>75%</th>\n",
       "      <td>2073.010070</td>\n",
       "      <td>132.840004</td>\n",
       "      <td>37.827501</td>\n",
       "      <td>22.882500</td>\n",
       "      <td>1.369971</td>\n",
       "    </tr>\n",
       "    <tr>\n",
       "      <th>max</th>\n",
       "      <td>2872.870117</td>\n",
       "      <td>184.589996</td>\n",
       "      <td>117.480003</td>\n",
       "      <td>47.259998</td>\n",
       "      <td>1.598798</td>\n",
       "    </tr>\n",
       "  </tbody>\n",
       "</table>\n",
       "</div>"
      ],
      "text/plain": [
       "               SPX          GLD          USO          SLV      EUR/USD\n",
       "count  2290.000000  2290.000000  2290.000000  2290.000000  2290.000000\n",
       "mean   1654.315776   122.732875    31.842221    20.084997     1.283653\n",
       "std     519.111540    23.283346    19.523517     7.092566     0.131547\n",
       "min     676.530029    70.000000     7.960000     8.850000     1.039047\n",
       "25%    1239.874969   109.725000    14.380000    15.570000     1.171313\n",
       "50%    1551.434998   120.580002    33.869999    17.268500     1.303297\n",
       "75%    2073.010070   132.840004    37.827501    22.882500     1.369971\n",
       "max    2872.870117   184.589996   117.480003    47.259998     1.598798"
      ]
     },
     "execution_count": 10,
     "metadata": {},
     "output_type": "execute_result"
    }
   ],
   "source": [
    "# getting the statistical measure of the data\n",
    "gold_data.describe()"
   ]
  },
  {
   "cell_type": "code",
   "execution_count": 11,
   "id": "403c6c5b",
   "metadata": {},
   "outputs": [],
   "source": [
    "# Now calculating Correlation\n",
    "#Correlation is a statistical concept that measures the relationship between two or more variables. \n",
    "#It indicates how strongly the variables are related to each other, and in what direction."
   ]
  },
  {
   "cell_type": "code",
   "execution_count": 12,
   "id": "9bf0d9c4",
   "metadata": {},
   "outputs": [],
   "source": [
    "correlation  = gold_data.corr(numeric_only=True)"
   ]
  },
  {
   "cell_type": "code",
   "execution_count": 13,
   "id": "d18c55d8",
   "metadata": {},
   "outputs": [
    {
     "data": {
      "text/html": [
       "<div>\n",
       "<style scoped>\n",
       "    .dataframe tbody tr th:only-of-type {\n",
       "        vertical-align: middle;\n",
       "    }\n",
       "\n",
       "    .dataframe tbody tr th {\n",
       "        vertical-align: top;\n",
       "    }\n",
       "\n",
       "    .dataframe thead th {\n",
       "        text-align: right;\n",
       "    }\n",
       "</style>\n",
       "<table border=\"1\" class=\"dataframe\">\n",
       "  <thead>\n",
       "    <tr style=\"text-align: right;\">\n",
       "      <th></th>\n",
       "      <th>SPX</th>\n",
       "      <th>GLD</th>\n",
       "      <th>USO</th>\n",
       "      <th>SLV</th>\n",
       "      <th>EUR/USD</th>\n",
       "    </tr>\n",
       "  </thead>\n",
       "  <tbody>\n",
       "    <tr>\n",
       "      <th>SPX</th>\n",
       "      <td>1.000000</td>\n",
       "      <td>0.049345</td>\n",
       "      <td>-0.591573</td>\n",
       "      <td>-0.274055</td>\n",
       "      <td>-0.672017</td>\n",
       "    </tr>\n",
       "    <tr>\n",
       "      <th>GLD</th>\n",
       "      <td>0.049345</td>\n",
       "      <td>1.000000</td>\n",
       "      <td>-0.186360</td>\n",
       "      <td>0.866632</td>\n",
       "      <td>-0.024375</td>\n",
       "    </tr>\n",
       "    <tr>\n",
       "      <th>USO</th>\n",
       "      <td>-0.591573</td>\n",
       "      <td>-0.186360</td>\n",
       "      <td>1.000000</td>\n",
       "      <td>0.167547</td>\n",
       "      <td>0.829317</td>\n",
       "    </tr>\n",
       "    <tr>\n",
       "      <th>SLV</th>\n",
       "      <td>-0.274055</td>\n",
       "      <td>0.866632</td>\n",
       "      <td>0.167547</td>\n",
       "      <td>1.000000</td>\n",
       "      <td>0.321631</td>\n",
       "    </tr>\n",
       "    <tr>\n",
       "      <th>EUR/USD</th>\n",
       "      <td>-0.672017</td>\n",
       "      <td>-0.024375</td>\n",
       "      <td>0.829317</td>\n",
       "      <td>0.321631</td>\n",
       "      <td>1.000000</td>\n",
       "    </tr>\n",
       "  </tbody>\n",
       "</table>\n",
       "</div>"
      ],
      "text/plain": [
       "              SPX       GLD       USO       SLV   EUR/USD\n",
       "SPX      1.000000  0.049345 -0.591573 -0.274055 -0.672017\n",
       "GLD      0.049345  1.000000 -0.186360  0.866632 -0.024375\n",
       "USO     -0.591573 -0.186360  1.000000  0.167547  0.829317\n",
       "SLV     -0.274055  0.866632  0.167547  1.000000  0.321631\n",
       "EUR/USD -0.672017 -0.024375  0.829317  0.321631  1.000000"
      ]
     },
     "execution_count": 13,
     "metadata": {},
     "output_type": "execute_result"
    }
   ],
   "source": [
    "correlation"
   ]
  },
  {
   "cell_type": "code",
   "execution_count": 14,
   "id": "26fd6e96",
   "metadata": {},
   "outputs": [
    {
     "data": {
      "text/plain": [
       "<Axes: >"
      ]
     },
     "execution_count": 14,
     "metadata": {},
     "output_type": "execute_result"
    },
    {
     "data": {
      "image/png": "[encoded data removed]",
      "text/plain": [
       "<Figure size 1000x1000 with 2 Axes>"
      ]
     },
     "metadata": {},
     "output_type": "display_data"
    }
   ],
   "source": [
    "# constructing a heatmap \n",
    "plt.figure(figsize = (10,10))\n",
    "sns.heatmap(correlation, cbar=True, square=True, fmt='.1f',annot=True, annot_kws={'size':10})"
   ]
  },
  {
   "cell_type": "code",
   "execution_count": 15,
   "id": "1760221a",
   "metadata": {},
   "outputs": [
    {
     "name": "stdout",
     "output_type": "stream",
     "text": [
      "SPX        0.049345\n",
      "GLD        1.000000\n",
      "USO       -0.186360\n",
      "SLV        0.866632\n",
      "EUR/USD   -0.024375\n",
      "Name: GLD, dtype: float64\n"
     ]
    }
   ],
   "source": [
    "# calculating correlation value of gld\n",
    "print(correlation['GLD'])"
   ]
  },
  {
   "cell_type": "code",
   "execution_count": 86,
   "id": "dfab27cb",
   "metadata": {},
   "outputs": [
    {
     "data": {
      "text/plain": [
       "<seaborn.axisgrid.FacetGrid at 0x1bd076424d0>"
      ]
     },
     "execution_count": 86,
     "metadata": {},
     "output_type": "execute_result"
    },
    {
     "data": {
      "image/png": "[encoded data removed]",
      "text/plain": [
       "<Figure size 500x500 with 1 Axes>"
      ]
     },
     "metadata": {},
     "output_type": "display_data"
    }
   ],
   "source": [
    "# checking the distribution of the GLD Price\n",
    "sns.displot(data=gold_data, x='GLD', color='gold', kde=True)"
   ]
  },
  {
   "cell_type": "markdown",
   "id": "fc7056b4",
   "metadata": {},
   "source": [
    "## 3. Model Building"
   ]
  },
  {
   "cell_type": "code",
   "execution_count": 17,
   "id": "8dffad59",
   "metadata": {},
   "outputs": [],
   "source": [
    "X = gold_data.drop(['Date','GLD'],axis=1)\n",
    "Y = gold_data['GLD']"
   ]
  },
  {
   "cell_type": "code",
   "execution_count": 18,
   "id": "c0de92f1",
   "metadata": {},
   "outputs": [
    {
     "data": {
      "text/html": [
       "<div>\n",
       "<style scoped>\n",
       "    .dataframe tbody tr th:only-of-type {\n",
       "        vertical-align: middle;\n",
       "    }\n",
       "\n",
       "    .dataframe tbody tr th {\n",
       "        vertical-align: top;\n",
       "    }\n",
       "\n",
       "    .dataframe thead th {\n",
       "        text-align: right;\n",
       "    }\n",
       "</style>\n",
       "<table border=\"1\" class=\"dataframe\">\n",
       "  <thead>\n",
       "    <tr style=\"text-align: right;\">\n",
       "      <th></th>\n",
       "      <th>SPX</th>\n",
       "      <th>USO</th>\n",
       "      <th>SLV</th>\n",
       "      <th>EUR/USD</th>\n",
       "    </tr>\n",
       "  </thead>\n",
       "  <tbody>\n",
       "    <tr>\n",
       "      <th>0</th>\n",
       "      <td>1447.160034</td>\n",
       "      <td>78.470001</td>\n",
       "      <td>15.1800</td>\n",
       "      <td>1.471692</td>\n",
       "    </tr>\n",
       "    <tr>\n",
       "      <th>1</th>\n",
       "      <td>1447.160034</td>\n",
       "      <td>78.370003</td>\n",
       "      <td>15.2850</td>\n",
       "      <td>1.474491</td>\n",
       "    </tr>\n",
       "    <tr>\n",
       "      <th>2</th>\n",
       "      <td>1411.630005</td>\n",
       "      <td>77.309998</td>\n",
       "      <td>15.1670</td>\n",
       "      <td>1.475492</td>\n",
       "    </tr>\n",
       "    <tr>\n",
       "      <th>3</th>\n",
       "      <td>1416.180054</td>\n",
       "      <td>75.500000</td>\n",
       "      <td>15.0530</td>\n",
       "      <td>1.468299</td>\n",
       "    </tr>\n",
       "    <tr>\n",
       "      <th>4</th>\n",
       "      <td>1390.189941</td>\n",
       "      <td>76.059998</td>\n",
       "      <td>15.5900</td>\n",
       "      <td>1.557099</td>\n",
       "    </tr>\n",
       "    <tr>\n",
       "      <th>...</th>\n",
       "      <td>...</td>\n",
       "      <td>...</td>\n",
       "      <td>...</td>\n",
       "      <td>...</td>\n",
       "    </tr>\n",
       "    <tr>\n",
       "      <th>2285</th>\n",
       "      <td>2671.919922</td>\n",
       "      <td>14.060000</td>\n",
       "      <td>15.5100</td>\n",
       "      <td>1.186789</td>\n",
       "    </tr>\n",
       "    <tr>\n",
       "      <th>2286</th>\n",
       "      <td>2697.790039</td>\n",
       "      <td>14.370000</td>\n",
       "      <td>15.5300</td>\n",
       "      <td>1.184722</td>\n",
       "    </tr>\n",
       "    <tr>\n",
       "      <th>2287</th>\n",
       "      <td>2723.070068</td>\n",
       "      <td>14.410000</td>\n",
       "      <td>15.7400</td>\n",
       "      <td>1.191753</td>\n",
       "    </tr>\n",
       "    <tr>\n",
       "      <th>2288</th>\n",
       "      <td>2730.129883</td>\n",
       "      <td>14.380000</td>\n",
       "      <td>15.5600</td>\n",
       "      <td>1.193118</td>\n",
       "    </tr>\n",
       "    <tr>\n",
       "      <th>2289</th>\n",
       "      <td>2725.780029</td>\n",
       "      <td>14.405800</td>\n",
       "      <td>15.4542</td>\n",
       "      <td>1.182033</td>\n",
       "    </tr>\n",
       "  </tbody>\n",
       "</table>\n",
       "<p>2290 rows × 4 columns</p>\n",
       "</div>"
      ],
      "text/plain": [
       "              SPX        USO      SLV   EUR/USD\n",
       "0     1447.160034  78.470001  15.1800  1.471692\n",
       "1     1447.160034  78.370003  15.2850  1.474491\n",
       "2     1411.630005  77.309998  15.1670  1.475492\n",
       "3     1416.180054  75.500000  15.0530  1.468299\n",
       "4     1390.189941  76.059998  15.5900  1.557099\n",
       "...           ...        ...      ...       ...\n",
       "2285  2671.919922  14.060000  15.5100  1.186789\n",
       "2286  2697.790039  14.370000  15.5300  1.184722\n",
       "2287  2723.070068  14.410000  15.7400  1.191753\n",
       "2288  2730.129883  14.380000  15.5600  1.193118\n",
       "2289  2725.780029  14.405800  15.4542  1.182033\n",
       "\n",
       "[2290 rows x 4 columns]"
      ]
     },
     "execution_count": 18,
     "metadata": {},
     "output_type": "execute_result"
    }
   ],
   "source": [
    "X"
   ]
  },
  {
   "cell_type": "code",
   "execution_count": 19,
   "id": "da6ccf82",
   "metadata": {},
   "outputs": [
    {
     "data": {
      "text/plain": [
       "0        84.860001\n",
       "1        85.570000\n",
       "2        85.129997\n",
       "3        84.769997\n",
       "4        86.779999\n",
       "           ...    \n",
       "2285    124.589996\n",
       "2286    124.330002\n",
       "2287    125.180000\n",
       "2288    124.489998\n",
       "2289    122.543800\n",
       "Name: GLD, Length: 2290, dtype: float64"
      ]
     },
     "execution_count": 19,
     "metadata": {},
     "output_type": "execute_result"
    }
   ],
   "source": [
    "Y"
   ]
  },
  {
   "cell_type": "code",
   "execution_count": 20,
   "id": "bd07c2ff",
   "metadata": {},
   "outputs": [],
   "source": [
    "# splitting the dataset as 20% of the data will be reserved for testing, and the remaining 80% will be used for training.\n",
    "X_train, X_test, Y_train, Y_test = train_test_split(X, Y, test_size = 0.2, random_state=2)"
   ]
  },
  {
   "cell_type": "code",
   "execution_count": 25,
   "id": "27b3ad16",
   "metadata": {},
   "outputs": [],
   "source": [
    "from sklearn.linear_model import LinearRegression\n",
    "from sklearn.tree import DecisionTreeRegressor\n",
    "from sklearn.neighbors import KNeighborsRegressor\n",
    "from sklearn.metrics import mean_squared_error"
   ]
  },
  {
   "cell_type": "code",
   "execution_count": 26,
   "id": "490e30d6",
   "metadata": {},
   "outputs": [],
   "source": [
    "knr  = KNeighborsRegressor()\n",
    "tr = DecisionTreeRegressor(max_depth=5)\n",
    "rf = RandomForestRegressor(n_estimators=100)\n",
    "lr = LinearRegression()"
   ]
  },
  {
   "cell_type": "code",
   "execution_count": 53,
   "id": "4dc3b245",
   "metadata": {},
   "outputs": [],
   "source": [
    "models = {\n",
    "    'KNeighborsRegressor': knr,\n",
    "    'DecisionTreeRegressor': tr,\n",
    "    'RandomForestRegressor': rf,\n",
    "    'LinearRegression': lr,\n",
    "}"
   ]
  },
  {
   "cell_type": "code",
   "execution_count": 74,
   "id": "057eba55",
   "metadata": {},
   "outputs": [],
   "source": [
    "# calculating Mean Squared error:The formula for MSE is as follows:\n",
    "#MSE = Σ(yᵢ - ŷᵢ)² / n\n",
    "\n",
    "\n",
    "# R squared error: The formula for R-squared is as follows:\n",
    "#R² = 1 - (Σ(yᵢ - ŷᵢ)² / Σ(yᵢ - ȳ)²)\n"
   ]
  },
  {
   "cell_type": "code",
   "execution_count": 54,
   "id": "ff540fa5",
   "metadata": {},
   "outputs": [],
   "source": [
    "def train_regressior(model, X_train, Y_train, X_test, Y_test):\n",
    "    model.fit(X_train, Y_train)\n",
    "    y_pred = model.predict(X_test)\n",
    "    mse = mean_squared_error(Y_test, y_pred)\n",
    "    R_error = metrics.r2_score(Y_test, y_pred)\n",
    "    \n",
    "    return mse, R_error"
   ]
  },
  {
   "cell_type": "code",
   "execution_count": 55,
   "id": "188f4770",
   "metadata": {},
   "outputs": [
    {
     "data": {
      "text/plain": [
       "(5.358405042778278, 0.9898407980454054)"
      ]
     },
     "execution_count": 55,
     "metadata": {},
     "output_type": "execute_result"
    }
   ],
   "source": [
    "train_regressior(rf,X_train,Y_train,X_test,Y_test)"
   ]
  },
  {
   "cell_type": "code",
   "execution_count": 56,
   "id": "d77b77f4",
   "metadata": {},
   "outputs": [
    {
     "name": "stdout",
     "output_type": "stream",
     "text": [
      "For  KNeighborsRegressor\n",
      "MSE -  34.86469067219383\n",
      "R Square Error -  0.9338987197131254\n",
      "For  DecisionTreeRegressor\n",
      "MSE -  26.93414750926862\n",
      "R Square Error -  0.9489345352139286\n",
      "For  RandomForestRegressor\n",
      "MSE -  5.520805707555888\n",
      "R Square Error -  0.9895328965079395\n",
      "For  LinearRegression\n",
      "MSE -  70.78890079721532\n",
      "R Square Error -  0.8657886565869237\n"
     ]
    }
   ],
   "source": [
    "mse_scores = []\n",
    "R_error_scores = []\n",
    "\n",
    "for name, model in models.items():\n",
    "    \n",
    "    current_mse, current_R_error = train_regressior(model, X_train, Y_train, X_test, Y_test)\n",
    "    \n",
    "    print(\"For \", name)\n",
    "    print(\"MSE - \", current_mse)\n",
    "    print(\"R Square Error - \", current_R_error)\n",
    "    \n",
    "    mse_scores.append(current_mse)\n",
    "    R_error_scores.append(current_R_error)"
   ]
  },
  {
   "cell_type": "code",
   "execution_count": 57,
   "id": "59010f2b",
   "metadata": {},
   "outputs": [],
   "source": [
    "#mse ~ 0 is best and r_quare ~1 is best"
   ]
  },
  {
   "cell_type": "code",
   "execution_count": 59,
   "id": "4a04d5fd",
   "metadata": {},
   "outputs": [
    {
     "data": {
      "text/html": [
       "<div>\n",
       "<style scoped>\n",
       "    .dataframe tbody tr th:only-of-type {\n",
       "        vertical-align: middle;\n",
       "    }\n",
       "\n",
       "    .dataframe tbody tr th {\n",
       "        vertical-align: top;\n",
       "    }\n",
       "\n",
       "    .dataframe thead th {\n",
       "        text-align: right;\n",
       "    }\n",
       "</style>\n",
       "<table border=\"1\" class=\"dataframe\">\n",
       "  <thead>\n",
       "    <tr style=\"text-align: right;\">\n",
       "      <th></th>\n",
       "      <th>Algorithm</th>\n",
       "      <th>MSE</th>\n",
       "      <th>R Square Error</th>\n",
       "    </tr>\n",
       "  </thead>\n",
       "  <tbody>\n",
       "    <tr>\n",
       "      <th>2</th>\n",
       "      <td>RandomForestRegressor</td>\n",
       "      <td>5.520806</td>\n",
       "      <td>0.989533</td>\n",
       "    </tr>\n",
       "    <tr>\n",
       "      <th>1</th>\n",
       "      <td>DecisionTreeRegressor</td>\n",
       "      <td>26.934148</td>\n",
       "      <td>0.948935</td>\n",
       "    </tr>\n",
       "    <tr>\n",
       "      <th>0</th>\n",
       "      <td>KNeighborsRegressor</td>\n",
       "      <td>34.864691</td>\n",
       "      <td>0.933899</td>\n",
       "    </tr>\n",
       "    <tr>\n",
       "      <th>3</th>\n",
       "      <td>LinearRegression</td>\n",
       "      <td>70.788901</td>\n",
       "      <td>0.865789</td>\n",
       "    </tr>\n",
       "  </tbody>\n",
       "</table>\n",
       "</div>"
      ],
      "text/plain": [
       "               Algorithm        MSE  R Square Error\n",
       "2  RandomForestRegressor   5.520806        0.989533\n",
       "1  DecisionTreeRegressor  26.934148        0.948935\n",
       "0    KNeighborsRegressor  34.864691        0.933899\n",
       "3       LinearRegression  70.788901        0.865789"
      ]
     },
     "execution_count": 59,
     "metadata": {},
     "output_type": "execute_result"
    }
   ],
   "source": [
    "# Create a DataFrame using the dictionary keys (model names)\n",
    "performance_df = pd.DataFrame({'Algorithm': models.keys(), 'MSE': mse_scores, 'R Square Error': R_error_scores})\n",
    "\n",
    "# Sort the DataFrame by R Square Error in descending order\n",
    "performance_df = performance_df.sort_values('R Square Error', ascending=False)\n",
    "performance_df"
   ]
  },
  {
   "cell_type": "code",
   "execution_count": 64,
   "id": "2531d137",
   "metadata": {},
   "outputs": [],
   "source": [
    "# from the above we get the random forest tree is the best algorithm for this problem"
   ]
  },
  {
   "cell_type": "code",
   "execution_count": 75,
   "id": "0fad858e",
   "metadata": {},
   "outputs": [],
   "source": [
    "# using Random forest Regressor algorithm\n",
    "Rf = RandomForestRegressor(n_estimators=100)"
   ]
  },
  {
   "cell_type": "code",
   "execution_count": 76,
   "id": "1e475379",
   "metadata": {},
   "outputs": [
    {
     "data": {
      "text/html": [
       "<style>#sk-container-id-4 {color: black;background-color: white;}#sk-container-id-4 pre{padding: 0;}#sk-container-id-4 div.sk-toggleable {background-color: white;}#sk-container-id-4 label.sk-toggleable__label {cursor: pointer;display: block;width: 100%;margin-bottom: 0;padding: 0.3em;box-sizing: border-box;text-align: center;}#sk-container-id-4 label.sk-toggleable__label-arrow:before {content: \"▸\";float: left;margin-right: 0.25em;color: #696969;}#sk-container-id-4 label.sk-toggleable__label-arrow:hover:before {color: black;}#sk-container-id-4 div.sk-estimator:hover label.sk-toggleable__label-arrow:before {color: black;}#sk-container-id-4 div.sk-toggleable__content {max-height: 0;max-width: 0;overflow: hidden;text-align: left;background-color: #f0f8ff;}#sk-container-id-4 div.sk-toggleable__content pre {margin: 0.2em;color: black;border-radius: 0.25em;background-color: #f0f8ff;}#sk-container-id-4 input.sk-toggleable__control:checked~div.sk-toggleable__content {max-height: 200px;max-width: 100%;overflow: auto;}#sk-container-id-4 input.sk-toggleable__control:checked~label.sk-toggleable__label-arrow:before {content: \"▾\";}#sk-container-id-4 div.sk-estimator input.sk-toggleable__control:checked~label.sk-toggleable__label {background-color: #d4ebff;}#sk-container-id-4 div.sk-label input.sk-toggleable__control:checked~label.sk-toggleable__label {background-color: #d4ebff;}#sk-container-id-4 input.sk-hidden--visually {border: 0;clip: rect(1px 1px 1px 1px);clip: rect(1px, 1px, 1px, 1px);height: 1px;margin: -1px;overflow: hidden;padding: 0;position: absolute;width: 1px;}#sk-container-id-4 div.sk-estimator {font-family: monospace;background-color: #f0f8ff;border: 1px dotted black;border-radius: 0.25em;box-sizing: border-box;margin-bottom: 0.5em;}#sk-container-id-4 div.sk-estimator:hover {background-color: #d4ebff;}#sk-container-id-4 div.sk-parallel-item::after {content: \"\";width: 100%;border-bottom: 1px solid gray;flex-grow: 1;}#sk-container-id-4 div.sk-label:hover label.sk-toggleable__label {background-color: #d4ebff;}#sk-container-id-4 div.sk-serial::before {content: \"\";position: absolute;border-left: 1px solid gray;box-sizing: border-box;top: 0;bottom: 0;left: 50%;z-index: 0;}#sk-container-id-4 div.sk-serial {display: flex;flex-direction: column;align-items: center;background-color: white;padding-right: 0.2em;padding-left: 0.2em;position: relative;}#sk-container-id-4 div.sk-item {position: relative;z-index: 1;}#sk-container-id-4 div.sk-parallel {display: flex;align-items: stretch;justify-content: center;background-color: white;position: relative;}#sk-container-id-4 div.sk-item::before, #sk-container-id-4 div.sk-parallel-item::before {content: \"\";position: absolute;border-left: 1px solid gray;box-sizing: border-box;top: 0;bottom: 0;left: 50%;z-index: -1;}#sk-container-id-4 div.sk-parallel-item {display: flex;flex-direction: column;z-index: 1;position: relative;background-color: white;}#sk-container-id-4 div.sk-parallel-item:first-child::after {align-self: flex-end;width: 50%;}#sk-container-id-4 div.sk-parallel-item:last-child::after {align-self: flex-start;width: 50%;}#sk-container-id-4 div.sk-parallel-item:only-child::after {width: 0;}#sk-container-id-4 div.sk-dashed-wrapped {border: 1px dashed gray;margin: 0 0.4em 0.5em 0.4em;box-sizing: border-box;padding-bottom: 0.4em;background-color: white;}#sk-container-id-4 div.sk-label label {font-family: monospace;font-weight: bold;display: inline-block;line-height: 1.2em;}#sk-container-id-4 div.sk-label-container {text-align: center;}#sk-container-id-4 div.sk-container {/* jupyter's `normalize.less` sets `[hidden] { display: none; }` but bootstrap.min.css set `[hidden] { display: none !important; }` so we also need the `!important` here to be able to override the default hidden behavior on the sphinx rendered scikit-learn.org. See: https://github.com/scikit-learn/scikit-learn/issues/21755 */display: inline-block !important;position: relative;}#sk-container-id-4 div.sk-text-repr-fallback {display: none;}</style><div id=\"sk-container-id-4\" class=\"sk-top-container\"><div class=\"sk-text-repr-fallback\"><pre>RandomForestRegressor()</pre><b>In a Jupyter environment, please rerun this cell to show the HTML representation or trust the notebook. <br />On GitHub, the HTML representation is unable to render, please try loading this page with nbviewer.org.</b></div><div class=\"sk-container\" hidden><div class=\"sk-item\"><div class=\"sk-estimator sk-toggleable\"><input class=\"sk-toggleable__control sk-hidden--visually\" id=\"sk-estimator-id-4\" type=\"checkbox\" checked><label for=\"sk-estimator-id-4\" class=\"sk-toggleable__label sk-toggleable__label-arrow\">RandomForestRegressor</label><div class=\"sk-toggleable__content\"><pre>RandomForestRegressor()</pre></div></div></div></div></div>"
      ],
      "text/plain": [
       "RandomForestRegressor()"
      ]
     },
     "execution_count": 76,
     "metadata": {},
     "output_type": "execute_result"
    }
   ],
   "source": [
    "# Model training\n",
    "Rf.fit(X_train,Y_train)"
   ]
  },
  {
   "cell_type": "code",
   "execution_count": 77,
   "id": "39c79504",
   "metadata": {},
   "outputs": [],
   "source": [
    "y_pred = Rf.predict(X_test)"
   ]
  },
  {
   "cell_type": "code",
   "execution_count": 78,
   "id": "2b1c0089",
   "metadata": {},
   "outputs": [
    {
     "data": {
      "text/plain": [
       "array([168.78640024,  81.79190001, 115.97560014, 127.7547007 ,\n",
       "       120.63610108, 154.79279814, 150.50339828, 126.06090064,\n",
       "       117.67459881, 126.01780049, 116.75730082, 171.67980087,\n",
       "       141.67149879, 167.77639825, 115.22229999, 117.58680059,\n",
       "       138.87450256, 170.04610114, 159.32150249, 158.76270007,\n",
       "       155.12920041, 125.22499984, 176.0136991 , 157.17370349,\n",
       "       125.19650059,  93.95499972,  77.77519995, 120.40309981,\n",
       "       119.10379949, 167.54799985,  87.96940057, 124.90319982,\n",
       "        91.11990059, 117.65470048, 121.01009903, 136.91300054,\n",
       "       115.56960072, 115.23860074, 148.4532001 , 106.98970087,\n",
       "       104.15140248,  87.3833979 , 126.63730046, 118.0749999 ,\n",
       "       152.7005986 , 119.50900011, 108.39400014, 108.21519825,\n",
       "        93.17470046, 127.10789789,  74.67630036, 113.72219921,\n",
       "       121.31149984, 111.17369902, 118.75589907, 120.43319956,\n",
       "       159.82739982, 165.86710139, 147.13189648,  85.93179881,\n",
       "        94.54770032,  86.75039867,  90.6651003 , 118.83580078,\n",
       "       126.44340078, 127.49170038, 169.49849968, 122.30379951,\n",
       "       117.33059894,  98.36230049, 168.55350176, 143.22749853,\n",
       "       132.21300323, 121.21040198, 121.22869945, 119.99540038,\n",
       "       114.34050173, 118.43620052, 106.94410081, 127.8143008 ,\n",
       "       114.06439958, 107.09140009, 116.97410073, 119.57699902,\n",
       "        88.70610034,  88.18749865, 146.42270305, 127.15529996,\n",
       "       113.53470016, 110.46859857, 108.1128992 ,  76.99469922,\n",
       "       168.70270158, 114.04099902, 121.54159924, 128.04630221,\n",
       "       154.94379915,  91.93039923, 134.5175011 , 158.4389038 ,\n",
       "       125.07460103, 125.23080081, 130.50400135, 114.84840111,\n",
       "       119.70959991,  92.11089982, 110.30159889, 166.71579947,\n",
       "       154.89649991, 114.21449945, 106.19570144,  80.01279965,\n",
       "       113.26610056, 125.90200094, 107.37229953, 119.34370072,\n",
       "       155.05160312, 160.26039906, 120.3722    , 134.73140282,\n",
       "       101.39410016, 117.47439804, 119.03810002, 113.05970078,\n",
       "       102.76629912, 159.91569811,  99.11310054, 146.82449958,\n",
       "       125.65980104, 169.52199967, 125.82559841, 127.20839815,\n",
       "       127.33860105, 113.81509932, 112.93940068, 123.51489896,\n",
       "       102.14639902,  89.40799985, 124.24339951, 101.13579947,\n",
       "       107.16479948, 113.60330027, 116.92780081,  99.48649964,\n",
       "       121.69410096, 163.59989813,  87.52409861, 106.75599988,\n",
       "       117.29890079, 127.64540137, 124.23090065,  80.69549943,\n",
       "       120.70030028, 158.50909796,  87.80199947, 109.87639992,\n",
       "       118.69809923, 172.33839863, 102.9588992 , 105.55220053,\n",
       "       122.52360043, 158.57779803,  87.54329838,  93.21420055,\n",
       "       112.54880034, 176.91409901, 114.57329965, 119.04040024,\n",
       "        94.48920063, 125.91920045, 166.26670143, 114.91190056,\n",
       "       116.64840154,  88.24449875, 148.66160047, 120.17719989,\n",
       "        89.50389945, 111.79299991, 117.32250052, 118.63830125,\n",
       "        87.95079935,  94.01149986, 117.13100031, 118.45910197,\n",
       "       120.37090029, 126.84219823, 121.91889986, 150.32260058,\n",
       "       165.08610118, 118.51939955, 120.41770121, 151.34050066,\n",
       "       118.72519879, 172.81009876, 105.31149948, 104.85640167,\n",
       "       149.48700071, 114.11340077, 124.73230108, 147.00130067,\n",
       "       119.63910126, 115.28820035, 112.22699986, 113.33780222,\n",
       "       139.86000081, 117.74449773, 102.95420019, 115.64720095,\n",
       "       103.32340178,  98.6495006 , 117.54400101,  90.49710028,\n",
       "        91.55720027, 153.23129871, 102.77169968, 155.18430094,\n",
       "       114.35910158, 138.86560072,  90.14889788, 115.48069915,\n",
       "       114.11299954, 122.93580028, 121.74770032, 165.20470092,\n",
       "        92.82149947, 135.88070147, 121.32569933, 120.83590089,\n",
       "       104.52450047, 143.49580223, 121.68309936, 116.61410055,\n",
       "       113.64110062, 126.93889785, 122.66749947, 125.84329971,\n",
       "       121.21580033,  86.8754988 , 132.54270081, 143.77680238,\n",
       "        92.7156995 , 157.73970039, 158.72960233, 126.63649903,\n",
       "       164.97499937, 108.75419966, 109.4877006 , 103.66299869,\n",
       "        94.46240065, 127.96090296, 107.15030019, 159.83850088,\n",
       "       121.76740063, 132.03230021, 130.64230137, 160.99109963,\n",
       "        90.13559797, 175.26640189, 127.7070005 , 126.8786985 ,\n",
       "        86.4562992 , 124.67579957, 150.71139731,  89.69609967,\n",
       "       106.71069967, 108.99479988,  85.10819897, 135.68189979,\n",
       "       154.89620238, 138.70400361,  73.94870056, 152.82040103,\n",
       "       126.08829998, 126.79089991, 127.42869878, 108.5841996 ,\n",
       "       156.52399941, 114.65690117, 116.99540145, 125.38699942,\n",
       "       154.04070112, 121.26590035, 156.32739887,  92.99020058,\n",
       "       125.56080105, 125.25800018,  87.97390024,  92.22889934,\n",
       "       126.23999872, 128.53510391, 113.27300032, 117.49659738,\n",
       "       120.99410002, 127.05829798, 119.76720105, 136.72190111,\n",
       "        94.01909977, 119.98860045, 113.15960086,  94.28889941,\n",
       "       108.89709959,  87.54129926, 108.32859965,  89.59579954,\n",
       "        92.51980006, 131.59930314, 162.42259956,  89.40200006,\n",
       "       119.62500065, 133.05820147, 123.70860027, 128.54150236,\n",
       "       101.96709837,  89.0947987 , 131.87120074, 119.82840051,\n",
       "       108.85990003, 169.11850178, 115.08080034,  86.56849872,\n",
       "       118.95030076,  91.17489956, 161.52970025, 116.37400076,\n",
       "       121.6488002 , 160.17829798, 120.25609943, 112.79219929,\n",
       "       108.50369893, 126.93459964,  75.98300034, 102.99149978,\n",
       "       127.77050274, 122.03549882,  92.56549998, 131.91970061,\n",
       "       118.11270135, 116.1285998 , 154.60860303, 159.58290102,\n",
       "       110.22499936, 151.93939766, 119.27920067, 160.68710055,\n",
       "       118.47230006, 157.25419914, 115.16619923, 116.43390019,\n",
       "       149.63499835, 114.90250092, 125.86749846, 165.10000004,\n",
       "       117.7541    , 125.03659924, 153.15670326, 153.46580258,\n",
       "       132.14010061, 114.79590031, 121.27940187, 125.01620067,\n",
       "        89.6715007 , 123.15019974, 155.28920258, 111.81290037,\n",
       "       106.78619985, 161.43500111, 118.6052997 , 165.71169964,\n",
       "       134.18210117, 115.0559995 , 153.04219874, 168.85960053,\n",
       "       114.17610037, 113.93220081, 158.9958988 ,  85.41369858,\n",
       "       127.16830011, 127.88460048, 128.78860022, 124.38030066,\n",
       "       123.78870051,  90.61470077, 153.13020021,  97.13759976,\n",
       "       137.48090031,  89.21859905, 107.0901001 , 114.92360064,\n",
       "       112.91150104, 123.87969931,  91.30819876, 125.40720104,\n",
       "       162.46859889, 119.87629969, 165.11460116, 126.85969821,\n",
       "       112.29650034, 127.55319972,  95.10989909,  91.06750013,\n",
       "       102.82669906, 120.83039986,  83.23319966, 126.31880048,\n",
       "       160.42740415, 117.27380112, 118.27040006, 119.96499968,\n",
       "       122.80439941, 119.98320124, 121.6650995 , 118.46180038,\n",
       "       106.88629947, 148.02939902, 126.31059802, 115.71840089,\n",
       "        73.97549979, 127.76990089, 154.24030038, 121.91389999,\n",
       "       125.59320106,  88.73410024, 103.92419893, 124.79540068,\n",
       "       120.17920036,  73.37540066, 151.79059984, 121.13590029,\n",
       "       104.70720019,  86.6414975 , 115.23989881, 172.1435982 ,\n",
       "       120.10780022, 159.22519836, 113.17969907, 121.30180029,\n",
       "       118.43190105,  95.92099985, 118.73770007, 125.93750032,\n",
       "       118.59949953,  95.74050078, 154.03510186, 121.80300034,\n",
       "       147.65070052, 158.92730294, 113.88690011, 122.47239954,\n",
       "       149.23719808, 127.17930029, 165.61870044, 135.8142003 ,\n",
       "       119.8425999 , 167.52069862, 108.27279945, 121.49889842,\n",
       "       138.77780108, 106.51419937])"
      ]
     },
     "execution_count": 78,
     "metadata": {},
     "output_type": "execute_result"
    }
   ],
   "source": [
    "y_pred"
   ]
  },
  {
   "cell_type": "markdown",
   "id": "69919eaf",
   "metadata": {},
   "source": [
    "## 4. Evaluation"
   ]
  },
  {
   "cell_type": "code",
   "execution_count": 79,
   "id": "22a50faf",
   "metadata": {},
   "outputs": [],
   "source": [
    "#Compare the Actual Values and Predicted Values in a Plot"
   ]
  },
  {
   "cell_type": "code",
   "execution_count": 80,
   "id": "53481706",
   "metadata": {},
   "outputs": [],
   "source": [
    "Y_test = list(Y_test)"
   ]
  },
  {
   "cell_type": "code",
   "execution_count": 81,
   "id": "d54ce7ce",
   "metadata": {},
   "outputs": [
    {
     "data": {
      "image/png": "[encoded data removed]",
      "text/plain": [
       "<Figure size 640x480 with 1 Axes>"
      ]
     },
     "metadata": {},
     "output_type": "display_data"
    }
   ],
   "source": [
    "plt.plot(Y_test, color='red', label = 'Actual Value')\n",
    "plt.plot(y_pred, color='green', label='Predicted Value')\n",
    "plt.title('Actual Price vs Predicted Price')\n",
    "plt.xlabel('Number of values')\n",
    "plt.ylabel('GLD Price')\n",
    "plt.legend()\n",
    "plt.show()"
   ]
  },
  {
   "cell_type": "code",
   "execution_count": 82,
   "id": "bc0a25a9",
   "metadata": {},
   "outputs": [],
   "source": [
    "import pickle\n",
    "pickle.dump(Rf,open('model.pkl','wb'))"
   ]
  },
  {
   "cell_type": "code",
   "execution_count": null,
   "id": "b4f582de",
   "metadata": {},
   "outputs": [],
   "source": []
  }
 ],
 "metadata": {
  "kernelspec": {
   "display_name": "Python 3 (ipykernel)",
   "language": "python",
   "name": "python3"
  },
  "language_info": {
   "codemirror_mode": {
    "name": "ipython",
    "version": 3
   },
   "file_extension": ".py",
   "mimetype": "text/x-python",
   "name": "python",
   "nbconvert_exporter": "python",
   "pygments_lexer": "ipython3",
   "version": "3.11.3"
  }
 },
 "nbformat": 4,
 "nbformat_minor": 5
}
